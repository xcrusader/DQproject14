{
 "cells": [
  {
   "cell_type": "raw",
   "metadata": {},
   "source": [
    "<script>\n",
    "  function code_toggle() {\n",
    "    if (code_shown){\n",
    "      $('div.input').hide('500');\n",
    "      $('#toggleButton').val('Show Code')\n",
    "    } else {\n",
    "      $('div.input').show('500');\n",
    "      $('#toggleButton').val('Hide Code')\n",
    "    }\n",
    "    code_shown = !code_shown\n",
    "  }\n",
    "\n",
    "  $( document ).ready(function(){\n",
    "    code_shown=false;\n",
    "    $('div.input').hide()\n",
    "  });\n",
    "</script>\n",
    "<form action=\"javascript:code_toggle()\"><input type=\"submit\" id=\"toggleButton\" value=\"Show Code\"></form>"
   ]
  },
  {
   "cell_type": "markdown",
   "metadata": {},
   "source": [
    "# Index"
   ]
  },
  {
   "cell_type": "markdown",
   "metadata": {},
   "source": [
    "- [1 Introduction](#1)\n",
    "- [2 Title](#2)\n",
    "- [3 Title](#3)\n",
    "- [4 Title](#4)\n",
    "- [5 Title](#5)\n",
    "- [6 Title](#6)\n",
    "- [7 Title](#7)\n",
    "- [8 Title](#8)\n",
    "- [9 Title](#9)\n",
    "- [10 Title](#10)\n",
    "- [11 Title](#11)\n",
    "- [12 Title](#12)\n",
    "- [13 Title](#13)\n",
    "- [14 Title](#14)\n",
    "- [15 Next Steps](#15)\n",
    "- [16 Conclusions](#21)"
   ]
  },
  {
   "cell_type": "markdown",
   "metadata": {},
   "source": [
    "# 1"
   ]
  },
  {
   "cell_type": "markdown",
   "metadata": {},
   "source": [
    "## Introduction"
   ]
  },
  {
   "cell_type": "markdown",
   "metadata": {},
   "source": []
  },
  {
   "cell_type": "markdown",
   "metadata": {},
   "source": [
    "Q1:\n",
    "\n",
    "    Read the dataset into a Dataframe called jeopardy using Pandas.\n",
    "    Print out the first 5 rows of jeopardy.\n",
    "    Print out the columns of jeopardy using jeopardy.columns.\n",
    "    Some of the column names have spaces in front.\n",
    "        Remove the spaces from each item in jeopardy.columns.\n",
    "        Assign the result back to jeopardy.columns to fix the column names in jeopardy.\n",
    "    Pay close attention to the format of each column."
   ]
  },
  {
   "cell_type": "code",
   "execution_count": 203,
   "metadata": {
    "scrolled": false
   },
   "outputs": [
    {
     "data": {
      "text/html": [
       "<div>\n",
       "<style scoped>\n",
       "    .dataframe tbody tr th:only-of-type {\n",
       "        vertical-align: middle;\n",
       "    }\n",
       "\n",
       "    .dataframe tbody tr th {\n",
       "        vertical-align: top;\n",
       "    }\n",
       "\n",
       "    .dataframe thead th {\n",
       "        text-align: right;\n",
       "    }\n",
       "</style>\n",
       "<table border=\"1\" class=\"dataframe\">\n",
       "  <thead>\n",
       "    <tr style=\"text-align: right;\">\n",
       "      <th></th>\n",
       "      <th>Show Number</th>\n",
       "      <th>Air Date</th>\n",
       "      <th>Round</th>\n",
       "      <th>Category</th>\n",
       "      <th>Value</th>\n",
       "      <th>Question</th>\n",
       "      <th>Answer</th>\n",
       "    </tr>\n",
       "  </thead>\n",
       "  <tbody>\n",
       "    <tr>\n",
       "      <th>0</th>\n",
       "      <td>4680</td>\n",
       "      <td>2004-12-31</td>\n",
       "      <td>Jeopardy!</td>\n",
       "      <td>HISTORY</td>\n",
       "      <td>$200</td>\n",
       "      <td>For the last 8 years of his life, Galileo was ...</td>\n",
       "      <td>Copernicus</td>\n",
       "    </tr>\n",
       "    <tr>\n",
       "      <th>1</th>\n",
       "      <td>4680</td>\n",
       "      <td>2004-12-31</td>\n",
       "      <td>Jeopardy!</td>\n",
       "      <td>ESPN's TOP 10 ALL-TIME ATHLETES</td>\n",
       "      <td>$200</td>\n",
       "      <td>No. 2: 1912 Olympian; football star at Carlisl...</td>\n",
       "      <td>Jim Thorpe</td>\n",
       "    </tr>\n",
       "    <tr>\n",
       "      <th>2</th>\n",
       "      <td>4680</td>\n",
       "      <td>2004-12-31</td>\n",
       "      <td>Jeopardy!</td>\n",
       "      <td>EVERYBODY TALKS ABOUT IT...</td>\n",
       "      <td>$200</td>\n",
       "      <td>The city of Yuma in this state has a record av...</td>\n",
       "      <td>Arizona</td>\n",
       "    </tr>\n",
       "    <tr>\n",
       "      <th>3</th>\n",
       "      <td>4680</td>\n",
       "      <td>2004-12-31</td>\n",
       "      <td>Jeopardy!</td>\n",
       "      <td>THE COMPANY LINE</td>\n",
       "      <td>$200</td>\n",
       "      <td>In 1963, live on \"The Art Linkletter Show\", th...</td>\n",
       "      <td>McDonald's</td>\n",
       "    </tr>\n",
       "    <tr>\n",
       "      <th>4</th>\n",
       "      <td>4680</td>\n",
       "      <td>2004-12-31</td>\n",
       "      <td>Jeopardy!</td>\n",
       "      <td>EPITAPHS &amp; TRIBUTES</td>\n",
       "      <td>$200</td>\n",
       "      <td>Signer of the Dec. of Indep., framer of the Co...</td>\n",
       "      <td>John Adams</td>\n",
       "    </tr>\n",
       "  </tbody>\n",
       "</table>\n",
       "</div>"
      ],
      "text/plain": [
       "   Show Number    Air Date      Round                         Category  Value  \\\n",
       "0         4680  2004-12-31  Jeopardy!                          HISTORY   $200   \n",
       "1         4680  2004-12-31  Jeopardy!  ESPN's TOP 10 ALL-TIME ATHLETES   $200   \n",
       "2         4680  2004-12-31  Jeopardy!      EVERYBODY TALKS ABOUT IT...   $200   \n",
       "3         4680  2004-12-31  Jeopardy!                 THE COMPANY LINE   $200   \n",
       "4         4680  2004-12-31  Jeopardy!              EPITAPHS & TRIBUTES   $200   \n",
       "\n",
       "                                            Question      Answer  \n",
       "0  For the last 8 years of his life, Galileo was ...  Copernicus  \n",
       "1  No. 2: 1912 Olympian; football star at Carlisl...  Jim Thorpe  \n",
       "2  The city of Yuma in this state has a record av...     Arizona  \n",
       "3  In 1963, live on \"The Art Linkletter Show\", th...  McDonald's  \n",
       "4  Signer of the Dec. of Indep., framer of the Co...  John Adams  "
      ]
     },
     "execution_count": 203,
     "metadata": {},
     "output_type": "execute_result"
    }
   ],
   "source": [
    "import pandas as pd\n",
    "jeopardy = pd.read_csv('jeopardy.csv')\n",
    "jeopardy.head(5)"
   ]
  },
  {
   "cell_type": "code",
   "execution_count": 204,
   "metadata": {},
   "outputs": [
    {
     "data": {
      "text/plain": [
       "Index(['Show Number', ' Air Date', ' Round', ' Category', ' Value',\n",
       "       ' Question', ' Answer'],\n",
       "      dtype='object')"
      ]
     },
     "execution_count": 204,
     "metadata": {},
     "output_type": "execute_result"
    }
   ],
   "source": [
    "jeopardy.columns"
   ]
  },
  {
   "cell_type": "code",
   "execution_count": 205,
   "metadata": {},
   "outputs": [
    {
     "data": {
      "text/plain": [
       "Index(['Show Number', 'Air Date', 'Round', 'Category', 'Value', 'Question',\n",
       "       'Answer'],\n",
       "      dtype='object')"
      ]
     },
     "execution_count": 205,
     "metadata": {},
     "output_type": "execute_result"
    }
   ],
   "source": [
    "jeopardy.columns=jeopardy.columns.str.strip()\n",
    "jeopardy.columns"
   ]
  },
  {
   "cell_type": "markdown",
   "metadata": {},
   "source": [
    "Q2: \n",
    "\n",
    "    Write a function to normalize questions and answers. The function should:\n",
    "        Take in a string.\n",
    "        Convert the string to lowercase.\n",
    "        Remove all punctuation in the string.\n",
    "        Return the string.\n",
    "    Normalize the Question column.\n",
    "        Use the Pandas Series.apply method to apply the function to each item in the Question column.\n",
    "        Assign the result to the clean_question column.\n",
    "    Normalize the Answer column.\n",
    "        Use the Pandas Series.apply method to apply the function to each item in the Answer column.\n",
    "        Assign the result to the clean_answer column."
   ]
  },
  {
   "cell_type": "code",
   "execution_count": 206,
   "metadata": {},
   "outputs": [],
   "source": [
    "# import nltk\n",
    "# nltk.download('stopwords')"
   ]
  },
  {
   "cell_type": "code",
   "execution_count": 207,
   "metadata": {},
   "outputs": [],
   "source": [
    "jeopardy['clean_question']=jeopardy['Question'].str.lower().str.replace('\\W',' ',regex=True).str.split()\n",
    "jeopardy['clean_answer']=jeopardy['Answer'].str.lower().str.replace('\\W',' ',regex=True).str.split()"
   ]
  },
  {
   "cell_type": "code",
   "execution_count": 208,
   "metadata": {},
   "outputs": [
    {
     "data": {
      "text/plain": [
       "0    [for, the, last, 8, years, of, his, life, gali...\n",
       "1    [no, 2, 1912, olympian, football, star, at, ca...\n",
       "2    [the, city, of, yuma, in, this, state, has, a,...\n",
       "3    [in, 1963, live, on, the, art, linkletter, sho...\n",
       "4    [signer, of, the, dec, of, indep, framer, of, ...\n",
       "5    [in, the, title, of, an, aesop, fable, this, i...\n",
       "Name: clean_question, dtype: object"
      ]
     },
     "execution_count": 208,
     "metadata": {},
     "output_type": "execute_result"
    }
   ],
   "source": [
    "#----------------\n",
    "jeopardy.loc[0:5,'clean_question']"
   ]
  },
  {
   "cell_type": "code",
   "execution_count": 209,
   "metadata": {},
   "outputs": [
    {
     "data": {
      "text/plain": [
       "['in',\n",
       " '1963',\n",
       " 'live',\n",
       " 'on',\n",
       " 'the',\n",
       " 'art',\n",
       " 'linkletter',\n",
       " 'show',\n",
       " 'this',\n",
       " 'company',\n",
       " 'served',\n",
       " 'its',\n",
       " 'billionth',\n",
       " 'burger']"
      ]
     },
     "execution_count": 209,
     "metadata": {},
     "output_type": "execute_result"
    }
   ],
   "source": [
    "#------\n",
    "jeopardy['clean_question'][3]"
   ]
  },
  {
   "cell_type": "code",
   "execution_count": 210,
   "metadata": {},
   "outputs": [],
   "source": [
    "from nltk.corpus import stopwords\n",
    "en_stops = set(stopwords.words('english'))"
   ]
  },
  {
   "cell_type": "code",
   "execution_count": 211,
   "metadata": {},
   "outputs": [],
   "source": [
    "def rem_stop_words(the_list):\n",
    "    no_stop_words=[]\n",
    "    for each_word in the_list:\n",
    "        if each_word not in en_stops:\n",
    "            no_stop_words.append(each_word) \n",
    "    return no_stop_words"
   ]
  },
  {
   "cell_type": "code",
   "execution_count": 212,
   "metadata": {},
   "outputs": [],
   "source": [
    "jeopardy['ques_rem_stopwords'] = jeopardy['clean_question'].apply(rem_stop_words)\n",
    "jeopardy['ans_rem_stopwords'] = jeopardy['clean_answer'].apply(rem_stop_words)"
   ]
  },
  {
   "cell_type": "code",
   "execution_count": 213,
   "metadata": {},
   "outputs": [
    {
     "data": {
      "text/plain": [
       "['last',\n",
       " '8',\n",
       " 'years',\n",
       " 'life',\n",
       " 'galileo',\n",
       " 'house',\n",
       " 'arrest',\n",
       " 'espousing',\n",
       " 'man',\n",
       " 'theory']"
      ]
     },
     "execution_count": 213,
     "metadata": {},
     "output_type": "execute_result"
    }
   ],
   "source": [
    "jeopardy['ques_rem_stopwords'][0]"
   ]
  },
  {
   "cell_type": "code",
   "execution_count": 214,
   "metadata": {},
   "outputs": [
    {
     "data": {
      "text/plain": [
       "0        [last, 8, years, life, galileo, house, arrest,...\n",
       "1        [2, 1912, olympian, football, star, carlisle, ...\n",
       "2        [city, yuma, state, record, average, 4, 055, h...\n",
       "3        [1963, live, art, linkletter, show, company, s...\n",
       "4        [signer, dec, indep, framer, constitution, mas...\n",
       "                               ...                        \n",
       "19994    [8, 12, 18, number, u, states, touch, atlantic...\n",
       "19995                             [new, power, generation]\n",
       "19996    [1589, appointed, professor, mathematics, univ...\n",
       "19997    [grand, jury, said, really, sorry, everything,...\n",
       "19998    [llamas, heftiest, south, american, members, a...\n",
       "Name: ques_rem_stopwords, Length: 19999, dtype: object"
      ]
     },
     "execution_count": 214,
     "metadata": {},
     "output_type": "execute_result"
    }
   ],
   "source": [
    "jeopardy['ques_rem_stopwords']"
   ]
  },
  {
   "cell_type": "markdown",
   "metadata": {},
   "source": [
    "Q3:\n",
    "\n",
    "    Write a function to normalize dollar values. The function should:\n",
    "        Take in a string.\n",
    "        Remove any punctuation in the string.\n",
    "        Convert the string to an integer.\n",
    "        Assign 0 instead if the conversion has an error.\n",
    "        Return the integer.\n",
    "    Normalize the Value column.\n",
    "        Use the Pandas Series.apply method to apply the function to each item in the Value column.\n",
    "        Assign the result to the clean_value column.\n",
    "    Use the pandas.to_datetime function to convert the Air Date column to a datetime column.\n"
   ]
  },
  {
   "cell_type": "code",
   "execution_count": 215,
   "metadata": {},
   "outputs": [
    {
     "name": "stdout",
     "output_type": "stream",
     "text": [
      "2\n"
     ]
    }
   ],
   "source": [
    "import re\n",
    "def clean_value(col):\n",
    "    col=col.lower()\n",
    "    try:\n",
    "        val=int(re.sub('\\W','',col))\n",
    "    except Exception:\n",
    "        val=0\n",
    "    return val\n",
    "    \n",
    "print(clean_value('$2'))\n",
    "jeopardy['clean_value']=jeopardy['Value'].apply(clean_value)\n",
    "jeopardy['Air Date'] = pd.to_datetime(jeopardy['Air Date'])"
   ]
  },
  {
   "cell_type": "markdown",
   "metadata": {},
   "source": [
    "Q4:\n",
    "\n",
    "\n",
    "    Write a function that takes in a row in jeopardy, as a Series. It should:\n",
    "        Split the clean_answer column around spaces and assign to the variable split_answer.\n",
    "            Split the clean_question column around spaces and assign to the variable split_question.\n",
    "        Create a variable called match_count, and set it to 0.\n",
    "        If the is in split_answer, remove it using the remove method on lists. The is commonly found in answers and questions, but doesn't have any meaningful use in finding the answer.\n",
    "        If the length of split_answer is 0, return 0. This prevents a division by zero error later.\n",
    "        Loop through each item in split_answer, and see if it occurs in split_question. If it does, add 1 to match_count.\n",
    "        Divide match_count by the length of split_answer, and return the result.\n",
    "    Count how many times terms in clean_answer occur in clean_question.\n",
    "        Use the Pandas DataFrame.apply method to apply the function to each row in jeopardy.\n",
    "        Pass the axis=1 argument to apply the function across each row.\n",
    "        Assign the result to the answer_in_question column.\n",
    "    Find the mean of the answer_in_question column using the mean method on Series.\n",
    "    Write up a markdown cell with a short explanation of how finding this mean might influence your studying strategy for Jeopardy.\n"
   ]
  },
  {
   "cell_type": "code",
   "execution_count": 216,
   "metadata": {},
   "outputs": [],
   "source": [
    "def process_row(a_row):\n",
    "    split_answer = a_row['ans_rem_stopwords']\n",
    "    split_question = a_row['ques_rem_stopwords']\n",
    "    match_count = 0\n",
    "    #https://www.tutorialspoint.com/python_text_processing/python_remove_stopwords.htm\n",
    "    #https://www.codespeedy.com/proper-noun-extraction-in-python-using-nlp-in-python/\n",
    "    if len(split_answer) == 0:\n",
    "        return 0\n",
    "    else:\n",
    "        for each_word in split_answer:\n",
    "            n=0\n",
    "            if each_word in split_question:\n",
    "                match_count+=1\n",
    "        return match_count/len(split_answer)"
   ]
  },
  {
   "cell_type": "code",
   "execution_count": 217,
   "metadata": {},
   "outputs": [
    {
     "data": {
      "text/plain": [
       "0.04040620862211945"
      ]
     },
     "execution_count": 217,
     "metadata": {},
     "output_type": "execute_result"
    }
   ],
   "source": [
    "answer_in_question = jeopardy.apply(process_row,axis=1)\n",
    "answer_in_question.mean()"
   ]
  },
  {
   "cell_type": "code",
   "execution_count": 218,
   "metadata": {},
   "outputs": [],
   "source": [
    "question_overlap=[]\n",
    "terms_used=set()\n",
    "jeopardy.sort_values('Air Date',inplace=True)"
   ]
  },
  {
   "cell_type": "markdown",
   "metadata": {},
   "source": [
    "Q5:\n",
    "\n",
    "    Create an empty list called question_overlap.\n",
    "    Create an empty set called terms_used.\n",
    "    Sort jeopardy by ascending air date.\n",
    "    Use the iterrows Dataframe method to loop through each row of jeopardy.\n",
    "        Split the clean_question column of the row on the space character (), and assign to split_question.\n",
    "        Remove any words in split_question that are less than 6 characters long.\n",
    "        Set match_count to 0.\n",
    "        Loop through each word in split_question.\n",
    "            If the term occurs in terms_used, add 1 to match_count.\n",
    "        Add each word in split_question to terms_used using the add method on sets.\n",
    "        If the length of split_question is greater than 0, divide match_count by the length of split_question.\n",
    "        Append match_count to question_overlap.\n",
    "    Assign question_overlap to the question_overlap column of jeopardy.\n",
    "    Find the mean of the question_overlap column and print it.\n",
    "    Look at the value, and think about what this might mean for questions being recycled. Write up your thoughts in a markdown cell."
   ]
  },
  {
   "cell_type": "code",
   "execution_count": 219,
   "metadata": {},
   "outputs": [
    {
     "data": {
      "text/plain": [
       "0.10772726232733855"
      ]
     },
     "execution_count": 219,
     "metadata": {},
     "output_type": "execute_result"
    }
   ],
   "source": [
    "for each_row in jeopardy['ques_rem_stopwords']:\n",
    "    for word in each_row:\n",
    "        match_count=0\n",
    "        if word in terms_used:\n",
    "            match_count+=1\n",
    "        terms_used.add(word)\n",
    "        \n",
    "    if len(each_row)>0:\n",
    "        match_count=match_count/len(each_row)\n",
    "    question_overlap.append(match_count)\n",
    "jeopardy['question_overlap']=question_overlap\n",
    "jeopardy['question_overlap'].mean()"
   ]
  },
  {
   "cell_type": "markdown",
   "metadata": {},
   "source": [
    "Q6:\n",
    "\n",
    "    Create a function that takes in a row from a Dataframe, and:\n",
    "        If the clean_value column is greater than 800, assign 1 to value.\n",
    "        Otherwise, assign 0 to value.\n",
    "        Return value.\n",
    "    Determine which questions are high and low value.\n",
    "        Use the Pandas DataFrame.apply method to apply the function to each row in jeopardy.\n",
    "        Pass the axis=1 argument to apply the function across each row.\n",
    "        Assign the result to the high_value column.\n",
    "    Create a function that takes in a word, and:\n",
    "        Assigns 0 to low_count.\n",
    "        Assigns 0 to high_count.\n",
    "        Loops through each row in jeopardy using the iterrows method.\n",
    "            Split the clean_question column on the space character ().\n",
    "            If the word is in the split question:\n",
    "                If the high_value column is 1, add 1 to high_count.\n",
    "                Else, add 1 to low_count.\n",
    "        Returns high_count and low_count. You can return multiple values by separating them with a comma.\n",
    "    Randomly pick ten elements of terms_used and append them to a list called comparison_terms.\n",
    "    Create an empty list called observed_expected.\n",
    "    Loop through each term in comparison_terms, and:\n",
    "        Run the function on the term to get the high value and low value counts.\n",
    "        Append the result of running the function (which will be a list) to observed_expected.\n"
   ]
  },
  {
   "cell_type": "code",
   "execution_count": 220,
   "metadata": {},
   "outputs": [],
   "source": [
    "def identify_high_price(value):\n",
    "    if value > 800:\n",
    "        return 1\n",
    "    else:\n",
    "        return 0\n",
    "jeopardy['high_value'] = jeopardy['clean_value'].apply(identify_high_price)"
   ]
  },
  {
   "cell_type": "code",
   "execution_count": 221,
   "metadata": {},
   "outputs": [
    {
     "data": {
      "text/html": [
       "<div>\n",
       "<style scoped>\n",
       "    .dataframe tbody tr th:only-of-type {\n",
       "        vertical-align: middle;\n",
       "    }\n",
       "\n",
       "    .dataframe tbody tr th {\n",
       "        vertical-align: top;\n",
       "    }\n",
       "\n",
       "    .dataframe thead th {\n",
       "        text-align: right;\n",
       "    }\n",
       "</style>\n",
       "<table border=\"1\" class=\"dataframe\">\n",
       "  <thead>\n",
       "    <tr style=\"text-align: right;\">\n",
       "      <th></th>\n",
       "      <th>Show Number</th>\n",
       "      <th>Air Date</th>\n",
       "      <th>Round</th>\n",
       "      <th>Category</th>\n",
       "      <th>Value</th>\n",
       "      <th>Question</th>\n",
       "      <th>Answer</th>\n",
       "      <th>clean_question</th>\n",
       "      <th>clean_answer</th>\n",
       "      <th>ques_rem_stopwords</th>\n",
       "      <th>ans_rem_stopwords</th>\n",
       "      <th>clean_value</th>\n",
       "      <th>question_overlap</th>\n",
       "      <th>high_value</th>\n",
       "    </tr>\n",
       "  </thead>\n",
       "  <tbody>\n",
       "    <tr>\n",
       "      <th>19325</th>\n",
       "      <td>10</td>\n",
       "      <td>1984-09-21</td>\n",
       "      <td>Final Jeopardy!</td>\n",
       "      <td>U.S. PRESIDENTS</td>\n",
       "      <td>None</td>\n",
       "      <td>Adventurous 26th president, he was 1st to ride...</td>\n",
       "      <td>Theodore Roosevelt</td>\n",
       "      <td>[adventurous, 26th, president, he, was, 1st, t...</td>\n",
       "      <td>[theodore, roosevelt]</td>\n",
       "      <td>[adventurous, 26th, president, 1st, ride, auto...</td>\n",
       "      <td>[theodore, roosevelt]</td>\n",
       "      <td>0</td>\n",
       "      <td>0.0</td>\n",
       "      <td>0</td>\n",
       "    </tr>\n",
       "    <tr>\n",
       "      <th>19301</th>\n",
       "      <td>10</td>\n",
       "      <td>1984-09-21</td>\n",
       "      <td>Double Jeopardy!</td>\n",
       "      <td>LABOR UNIONS</td>\n",
       "      <td>$200</td>\n",
       "      <td>Notorious labor leader missing since '75</td>\n",
       "      <td>Jimmy Hoffa</td>\n",
       "      <td>[notorious, labor, leader, missing, since, 75]</td>\n",
       "      <td>[jimmy, hoffa]</td>\n",
       "      <td>[notorious, labor, leader, missing, since, 75]</td>\n",
       "      <td>[jimmy, hoffa]</td>\n",
       "      <td>200</td>\n",
       "      <td>0.0</td>\n",
       "      <td>0</td>\n",
       "    </tr>\n",
       "    <tr>\n",
       "      <th>19302</th>\n",
       "      <td>10</td>\n",
       "      <td>1984-09-21</td>\n",
       "      <td>Double Jeopardy!</td>\n",
       "      <td>1789</td>\n",
       "      <td>$200</td>\n",
       "      <td>Washington proclaimed Nov. 26, 1789 this first...</td>\n",
       "      <td>Thanksgiving</td>\n",
       "      <td>[washington, proclaimed, nov, 26, 1789, this, ...</td>\n",
       "      <td>[thanksgiving]</td>\n",
       "      <td>[washington, proclaimed, nov, 26, 1789, first,...</td>\n",
       "      <td>[thanksgiving]</td>\n",
       "      <td>200</td>\n",
       "      <td>0.0</td>\n",
       "      <td>0</td>\n",
       "    </tr>\n",
       "    <tr>\n",
       "      <th>19303</th>\n",
       "      <td>10</td>\n",
       "      <td>1984-09-21</td>\n",
       "      <td>Double Jeopardy!</td>\n",
       "      <td>TOURIST TRAPS</td>\n",
       "      <td>$200</td>\n",
       "      <td>Both Ferde Grofe' &amp; the Colorado River dug thi...</td>\n",
       "      <td>the Grand Canyon</td>\n",
       "      <td>[both, ferde, grofe, the, colorado, river, dug...</td>\n",
       "      <td>[the, grand, canyon]</td>\n",
       "      <td>[ferde, grofe, colorado, river, dug, national,...</td>\n",
       "      <td>[grand, canyon]</td>\n",
       "      <td>200</td>\n",
       "      <td>0.0</td>\n",
       "      <td>0</td>\n",
       "    </tr>\n",
       "    <tr>\n",
       "      <th>19304</th>\n",
       "      <td>10</td>\n",
       "      <td>1984-09-21</td>\n",
       "      <td>Double Jeopardy!</td>\n",
       "      <td>LITERATURE</td>\n",
       "      <td>$200</td>\n",
       "      <td>Depending on the book, he could be a \"Jones\", ...</td>\n",
       "      <td>Tom</td>\n",
       "      <td>[depending, on, the, book, he, could, be, a, j...</td>\n",
       "      <td>[tom]</td>\n",
       "      <td>[depending, book, could, jones, sawyer, uncle]</td>\n",
       "      <td>[tom]</td>\n",
       "      <td>200</td>\n",
       "      <td>0.0</td>\n",
       "      <td>0</td>\n",
       "    </tr>\n",
       "  </tbody>\n",
       "</table>\n",
       "</div>"
      ],
      "text/plain": [
       "       Show Number   Air Date             Round         Category Value  \\\n",
       "19325           10 1984-09-21   Final Jeopardy!  U.S. PRESIDENTS  None   \n",
       "19301           10 1984-09-21  Double Jeopardy!     LABOR UNIONS  $200   \n",
       "19302           10 1984-09-21  Double Jeopardy!             1789  $200   \n",
       "19303           10 1984-09-21  Double Jeopardy!    TOURIST TRAPS  $200   \n",
       "19304           10 1984-09-21  Double Jeopardy!       LITERATURE  $200   \n",
       "\n",
       "                                                Question              Answer  \\\n",
       "19325  Adventurous 26th president, he was 1st to ride...  Theodore Roosevelt   \n",
       "19301           Notorious labor leader missing since '75         Jimmy Hoffa   \n",
       "19302  Washington proclaimed Nov. 26, 1789 this first...        Thanksgiving   \n",
       "19303  Both Ferde Grofe' & the Colorado River dug thi...    the Grand Canyon   \n",
       "19304  Depending on the book, he could be a \"Jones\", ...                 Tom   \n",
       "\n",
       "                                          clean_question  \\\n",
       "19325  [adventurous, 26th, president, he, was, 1st, t...   \n",
       "19301     [notorious, labor, leader, missing, since, 75]   \n",
       "19302  [washington, proclaimed, nov, 26, 1789, this, ...   \n",
       "19303  [both, ferde, grofe, the, colorado, river, dug...   \n",
       "19304  [depending, on, the, book, he, could, be, a, j...   \n",
       "\n",
       "                clean_answer  \\\n",
       "19325  [theodore, roosevelt]   \n",
       "19301         [jimmy, hoffa]   \n",
       "19302         [thanksgiving]   \n",
       "19303   [the, grand, canyon]   \n",
       "19304                  [tom]   \n",
       "\n",
       "                                      ques_rem_stopwords  \\\n",
       "19325  [adventurous, 26th, president, 1st, ride, auto...   \n",
       "19301     [notorious, labor, leader, missing, since, 75]   \n",
       "19302  [washington, proclaimed, nov, 26, 1789, first,...   \n",
       "19303  [ferde, grofe, colorado, river, dug, national,...   \n",
       "19304     [depending, book, could, jones, sawyer, uncle]   \n",
       "\n",
       "           ans_rem_stopwords  clean_value  question_overlap  high_value  \n",
       "19325  [theodore, roosevelt]            0               0.0           0  \n",
       "19301         [jimmy, hoffa]          200               0.0           0  \n",
       "19302         [thanksgiving]          200               0.0           0  \n",
       "19303        [grand, canyon]          200               0.0           0  \n",
       "19304                  [tom]          200               0.0           0  "
      ]
     },
     "execution_count": 221,
     "metadata": {},
     "output_type": "execute_result"
    }
   ],
   "source": [
    "jeopardy.head(5)"
   ]
  },
  {
   "cell_type": "code",
   "execution_count": 222,
   "metadata": {},
   "outputs": [],
   "source": [
    "#sorting dictionary future reference: https://stackoverflow.com/questions/613183/how-do-i-sort-a-dictionary-by-value\n",
    "\n",
    "#Most commonly used words in the set\n",
    "ques_words_count={}\n",
    "for each_row in jeopardy['ques_rem_stopwords']:\n",
    "    for word in each_row:\n",
    "        if word in ques_words_count:\n",
    "            ques_words_count[word]+=1\n",
    "        else:\n",
    "            ques_words_count[word]=1\n",
    "ques_words_count=pd.Series(ques_words_count)\n",
    "comparison_terms=ques_words_count.sort_values(ascending=False).head(20)"
   ]
  },
  {
   "cell_type": "code",
   "execution_count": 223,
   "metadata": {},
   "outputs": [],
   "source": [
    "def term_count(word):\n",
    "    high_count=0\n",
    "    low_count=0\n",
    "    for index,each_question in jeopardy[['ques_rem_stopwords','high_value']].iterrows():\n",
    "        split_ques=each_question['ques_rem_stopwords']\n",
    "        if word in split_ques:\n",
    "            if each_question['high_value']==1:\n",
    "                high_count+=1\n",
    "            else:\n",
    "                low_count+=1\n",
    "    return low_count,high_count"
   ]
  },
  {
   "cell_type": "code",
   "execution_count": 224,
   "metadata": {},
   "outputs": [
    {
     "data": {
      "text/plain": [
       "0    14265\n",
       "1     5734\n",
       "Name: high_value, dtype: int64"
      ]
     },
     "execution_count": 224,
     "metadata": {},
     "output_type": "execute_result"
    }
   ],
   "source": [
    "jeopardy['high_value'].value_counts()"
   ]
  },
  {
   "cell_type": "code",
   "execution_count": 229,
   "metadata": {
    "scrolled": false
   },
   "outputs": [],
   "source": [
    "observed_expected=[]\n",
    "for each_term in comparison_terms.index:\n",
    "    observed_expected.append(term_count(each_term))"
   ]
  },
  {
   "cell_type": "code",
   "execution_count": 230,
   "metadata": {},
   "outputs": [
    {
     "data": {
      "text/plain": [
       "j          1266\n",
       "com        1240\n",
       "media      1223\n",
       "www        1222\n",
       "one        1216\n",
       "archive    1216\n",
       "http       1215\n",
       "href       1214\n",
       "name       1027\n",
       "target      975\n",
       "_blank      968\n",
       "jpg         966\n",
       "first       955\n",
       "2           717\n",
       "city        687\n",
       "country     575\n",
       "man         550\n",
       "named       531\n",
       "called      521\n",
       "u           515\n",
       "dtype: int64"
      ]
     },
     "execution_count": 230,
     "metadata": {},
     "output_type": "execute_result"
    }
   ],
   "source": [
    "comparison_terms"
   ]
  },
  {
   "cell_type": "code",
   "execution_count": 231,
   "metadata": {},
   "outputs": [
    {
     "data": {
      "text/plain": [
       "[(562, 436),\n",
       " (543, 429),\n",
       " (534, 424),\n",
       " (532, 424),\n",
       " (828, 311),\n",
       " (528, 422),\n",
       " (528, 422),\n",
       " (527, 422),\n",
       " (666, 331),\n",
       " (409, 350),\n",
       " (407, 345),\n",
       " (404, 342),\n",
       " (660, 267),\n",
       " (487, 207),\n",
       " (482, 174),\n",
       " (414, 158),\n",
       " (377, 163),\n",
       " (335, 184),\n",
       " (346, 168),\n",
       " (379, 120)]"
      ]
     },
     "execution_count": 231,
     "metadata": {},
     "output_type": "execute_result"
    }
   ],
   "source": [
    "observed_expected"
   ]
  },
  {
   "cell_type": "markdown",
   "metadata": {},
   "source": [
    "Q7:\n",
    "\n",
    "    Find the number of rows in jeopardy where high_value is 1, and assign to high_value_count.\n",
    "    Find the number of rows in jeopardy where high_value is 0, and assign to low_value_count.\n",
    "    Create an empty list called chi_squared.\n",
    "    Loop through each list in observed_expected.\n",
    "        Add up both items in the list (high and low counts) to get the total count, and assign to total.\n",
    "        Divide total by the number of rows in jeopardy to get the proportion across the dataset. Assign to total_prop.\n",
    "        Multiply total_prop by high_value_count to get the expected term count for high value rows.\n",
    "        Multiply total_prop by low_value_count to get the expected term count for low value rows.\n",
    "        Use the scipy.stats.chisquare function to compute the chi-squared value and p-value given the expected and observed counts.\n",
    "        Append the results to chi_squared.\n",
    "    Look over the chi-squared values and the associated p-values. Are there any statistically significant results? Write up your thoughts in a markdown cell."
   ]
  },
  {
   "cell_type": "code",
   "execution_count": 232,
   "metadata": {},
   "outputs": [
    {
     "data": {
      "text/plain": [
       "[Power_divergenceResult(statistic=110.03294938129115, pvalue=9.637541484584616e-26),\n",
       " Power_divergenceResult(statistic=113.66264635645558, pvalue=1.544759312646789e-26),\n",
       " Power_divergenceResult(statistic=113.81569207842102, pvalue=1.43001338099039e-26),\n",
       " Power_divergenceResult(statistic=114.93143119580006, pvalue=8.146622926425492e-27),\n",
       " Power_divergenceResult(statistic=1.040419022244512, pvalue=0.3077240384514436),\n",
       " Power_divergenceResult(statistic=115.2260857824335, pvalue=7.021783831514579e-27),\n",
       " Power_divergenceResult(statistic=115.2260857824335, pvalue=7.021783831514579e-27),\n",
       " Power_divergenceResult(statistic=115.79000072776388, pvalue=5.2838729385639264e-27),\n",
       " Power_divergenceResult(statistic=9.99601236582899, pvalue=0.001568795613071451),\n",
       " Power_divergenceResult(statistic=112.9055088529927, pvalue=2.263069530044779e-26),\n",
       " Power_divergenceResult(statistic=108.86196841394603, pvalue=1.7398996293205455e-25),\n",
       " Power_divergenceResult(statistic=107.5775939532445, pvalue=3.3262445548375754e-25),\n",
       " Power_divergenceResult(statistic=0.007797212117726043, pvalue=0.9296367892962225),\n",
       " Power_divergenceResult(statistic=0.45321424032337376, pvalue=0.5008125019653666),\n",
       " Power_divergenceResult(statistic=1.4786743960342215, pvalue=0.2239820405589837),\n",
       " Power_divergenceResult(statistic=0.3078083713920206, pvalue=0.5790281803491657),\n",
       " Power_divergenceResult(statistic=0.6050483684070006, pvalue=0.4366583018309882),\n",
       " Power_divergenceResult(statistic=11.670463056582511, pvalue=0.0006350020349456288),\n",
       " Power_divergenceResult(statistic=4.048305063534577, pvalue=0.044215717944225866),\n",
       " Power_divergenceResult(statistic=5.21553440506906, pvalue=0.022385965808023912)]"
      ]
     },
     "execution_count": 232,
     "metadata": {},
     "output_type": "execute_result"
    }
   ],
   "source": [
    "from scipy.stats import chisquare\n",
    "import numpy as np\n",
    "high_value_count = jeopardy['high_value'].value_counts()[1]\n",
    "low_value_count = jeopardy['high_value'].value_counts()[0]\n",
    "chi_squared = []\n",
    "for each_list in observed_expected:\n",
    "    total=np.sum(each_list)\n",
    "    total_prop=total/jeopardy.shape[0]\n",
    "    exp_high=total_prop*high_value_count\n",
    "    exp_low=total_prop*low_value_count\n",
    "    \n",
    "    expected=np.array([exp_low,exp_high])\n",
    "    observed=np.array([each_list[0],each_list[1]])\n",
    "    chi_squared.append(chisquare(observed,expected))\n",
    "    \n",
    "chi_squared"
   ]
  },
  {
   "cell_type": "markdown",
   "metadata": {},
   "source": [
    "[Index](#Index)"
   ]
  },
  {
   "cell_type": "markdown",
   "metadata": {},
   "source": [
    "# 2"
   ]
  },
  {
   "cell_type": "markdown",
   "metadata": {},
   "source": [
    "## Title"
   ]
  },
  {
   "cell_type": "markdown",
   "metadata": {},
   "source": []
  },
  {
   "cell_type": "markdown",
   "metadata": {},
   "source": [
    "Instrusctions\n"
   ]
  },
  {
   "cell_type": "code",
   "execution_count": null,
   "metadata": {},
   "outputs": [],
   "source": []
  },
  {
   "cell_type": "markdown",
   "metadata": {},
   "source": [
    "[Index](#Index)"
   ]
  },
  {
   "cell_type": "markdown",
   "metadata": {},
   "source": [
    "# 3"
   ]
  },
  {
   "cell_type": "markdown",
   "metadata": {},
   "source": [
    "## Title"
   ]
  },
  {
   "cell_type": "markdown",
   "metadata": {},
   "source": []
  },
  {
   "cell_type": "markdown",
   "metadata": {},
   "source": [
    "instructions\n"
   ]
  },
  {
   "cell_type": "code",
   "execution_count": null,
   "metadata": {
    "scrolled": false
   },
   "outputs": [],
   "source": []
  },
  {
   "cell_type": "markdown",
   "metadata": {},
   "source": [
    "[Index](#Index)"
   ]
  },
  {
   "cell_type": "markdown",
   "metadata": {},
   "source": [
    "# 4"
   ]
  },
  {
   "cell_type": "markdown",
   "metadata": {},
   "source": [
    "## Title"
   ]
  },
  {
   "cell_type": "markdown",
   "metadata": {},
   "source": []
  },
  {
   "cell_type": "markdown",
   "metadata": {},
   "source": [
    "instructions\n"
   ]
  },
  {
   "cell_type": "code",
   "execution_count": null,
   "metadata": {
    "scrolled": false
   },
   "outputs": [],
   "source": []
  },
  {
   "cell_type": "markdown",
   "metadata": {},
   "source": [
    "[Index](#Index)"
   ]
  },
  {
   "cell_type": "markdown",
   "metadata": {},
   "source": [
    "# 5"
   ]
  },
  {
   "cell_type": "markdown",
   "metadata": {},
   "source": [
    "## Title"
   ]
  },
  {
   "cell_type": "markdown",
   "metadata": {},
   "source": []
  },
  {
   "cell_type": "markdown",
   "metadata": {},
   "source": [
    "instructions\n"
   ]
  },
  {
   "cell_type": "code",
   "execution_count": null,
   "metadata": {
    "scrolled": false
   },
   "outputs": [],
   "source": []
  },
  {
   "cell_type": "markdown",
   "metadata": {},
   "source": [
    "[Index](#Index)"
   ]
  },
  {
   "cell_type": "markdown",
   "metadata": {},
   "source": [
    "# 6"
   ]
  },
  {
   "cell_type": "markdown",
   "metadata": {},
   "source": [
    "## Title"
   ]
  },
  {
   "cell_type": "markdown",
   "metadata": {},
   "source": []
  },
  {
   "cell_type": "markdown",
   "metadata": {},
   "source": [
    "instructions\n"
   ]
  },
  {
   "cell_type": "code",
   "execution_count": null,
   "metadata": {
    "scrolled": false
   },
   "outputs": [],
   "source": []
  },
  {
   "cell_type": "markdown",
   "metadata": {},
   "source": [
    "[Index](#Index)"
   ]
  },
  {
   "cell_type": "markdown",
   "metadata": {},
   "source": [
    "# 7"
   ]
  },
  {
   "cell_type": "markdown",
   "metadata": {},
   "source": [
    "## Title"
   ]
  },
  {
   "cell_type": "markdown",
   "metadata": {},
   "source": []
  },
  {
   "cell_type": "markdown",
   "metadata": {},
   "source": [
    "instructions\n"
   ]
  },
  {
   "cell_type": "code",
   "execution_count": null,
   "metadata": {
    "scrolled": false
   },
   "outputs": [],
   "source": []
  },
  {
   "cell_type": "markdown",
   "metadata": {},
   "source": [
    "[Index](#Index)"
   ]
  },
  {
   "cell_type": "markdown",
   "metadata": {},
   "source": [
    "# 8"
   ]
  },
  {
   "cell_type": "markdown",
   "metadata": {},
   "source": [
    "## Title"
   ]
  },
  {
   "cell_type": "markdown",
   "metadata": {},
   "source": []
  },
  {
   "cell_type": "markdown",
   "metadata": {},
   "source": [
    "instructions\n"
   ]
  },
  {
   "cell_type": "code",
   "execution_count": null,
   "metadata": {
    "scrolled": false
   },
   "outputs": [],
   "source": []
  },
  {
   "cell_type": "markdown",
   "metadata": {},
   "source": [
    "[Index](#Index)"
   ]
  },
  {
   "cell_type": "markdown",
   "metadata": {},
   "source": [
    "# 9"
   ]
  },
  {
   "cell_type": "markdown",
   "metadata": {},
   "source": [
    "## Title"
   ]
  },
  {
   "cell_type": "markdown",
   "metadata": {},
   "source": []
  },
  {
   "cell_type": "markdown",
   "metadata": {},
   "source": [
    "instructions\n"
   ]
  },
  {
   "cell_type": "code",
   "execution_count": null,
   "metadata": {
    "scrolled": false
   },
   "outputs": [],
   "source": []
  },
  {
   "cell_type": "markdown",
   "metadata": {},
   "source": [
    "[Index](#Index)"
   ]
  },
  {
   "cell_type": "markdown",
   "metadata": {},
   "source": [
    "# 10"
   ]
  },
  {
   "cell_type": "markdown",
   "metadata": {},
   "source": [
    "## Title"
   ]
  },
  {
   "cell_type": "markdown",
   "metadata": {},
   "source": []
  },
  {
   "cell_type": "markdown",
   "metadata": {},
   "source": [
    "instructions\n"
   ]
  },
  {
   "cell_type": "code",
   "execution_count": null,
   "metadata": {
    "scrolled": false
   },
   "outputs": [],
   "source": []
  },
  {
   "cell_type": "markdown",
   "metadata": {},
   "source": [
    "[Index](#Index)"
   ]
  },
  {
   "cell_type": "markdown",
   "metadata": {},
   "source": [
    "# 11"
   ]
  },
  {
   "cell_type": "markdown",
   "metadata": {},
   "source": [
    "## Title"
   ]
  },
  {
   "cell_type": "markdown",
   "metadata": {},
   "source": []
  },
  {
   "cell_type": "markdown",
   "metadata": {},
   "source": [
    "instructions\n"
   ]
  },
  {
   "cell_type": "code",
   "execution_count": null,
   "metadata": {
    "scrolled": false
   },
   "outputs": [],
   "source": []
  },
  {
   "cell_type": "markdown",
   "metadata": {},
   "source": [
    "[Index](#Index)"
   ]
  },
  {
   "cell_type": "markdown",
   "metadata": {},
   "source": [
    "# 12"
   ]
  },
  {
   "cell_type": "markdown",
   "metadata": {},
   "source": [
    "## Title"
   ]
  },
  {
   "cell_type": "markdown",
   "metadata": {},
   "source": []
  },
  {
   "cell_type": "markdown",
   "metadata": {},
   "source": [
    "instructions\n"
   ]
  },
  {
   "cell_type": "code",
   "execution_count": null,
   "metadata": {
    "scrolled": false
   },
   "outputs": [],
   "source": []
  },
  {
   "cell_type": "markdown",
   "metadata": {},
   "source": [
    "[Index](#Index)"
   ]
  },
  {
   "cell_type": "markdown",
   "metadata": {},
   "source": [
    "# 13"
   ]
  },
  {
   "cell_type": "markdown",
   "metadata": {},
   "source": [
    "## Title"
   ]
  },
  {
   "cell_type": "markdown",
   "metadata": {},
   "source": []
  },
  {
   "cell_type": "markdown",
   "metadata": {},
   "source": [
    "instructions\n"
   ]
  },
  {
   "cell_type": "code",
   "execution_count": null,
   "metadata": {
    "scrolled": false
   },
   "outputs": [],
   "source": []
  },
  {
   "cell_type": "markdown",
   "metadata": {},
   "source": [
    "[Index](#Index)"
   ]
  },
  {
   "cell_type": "code",
   "execution_count": null,
   "metadata": {},
   "outputs": [],
   "source": []
  }
 ],
 "metadata": {
  "kernelspec": {
   "display_name": "Python 3",
   "language": "python",
   "name": "python3"
  },
  "language_info": {
   "codemirror_mode": {
    "name": "ipython",
    "version": 3
   },
   "file_extension": ".py",
   "mimetype": "text/x-python",
   "name": "python",
   "nbconvert_exporter": "python",
   "pygments_lexer": "ipython3",
   "version": "3.8.8"
  }
 },
 "nbformat": 4,
 "nbformat_minor": 2
}
